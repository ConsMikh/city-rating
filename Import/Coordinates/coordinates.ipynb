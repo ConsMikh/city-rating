{
 "cells": [
  {
   "cell_type": "code",
   "execution_count": 101,
   "metadata": {},
   "outputs": [],
   "source": [
    "import pandas as pd\n",
    "import requests\n",
    "from requests.exceptions import HTTPError\n",
    "from time import sleep\n",
    "import json\n",
    "import re"
   ]
  },
  {
   "cell_type": "code",
   "execution_count": 180,
   "metadata": {},
   "outputs": [],
   "source": [
    "citieslist = pd.read_csv('../Population/rosstat_clean.csv', encoding = 'cp1251')"
   ]
  },
  {
   "cell_type": "markdown",
   "metadata": {},
   "source": [
    "## Получение координат городов \n",
    "Осуществляется с помощью прямого геокодирования сервисом Geocoder API из состава API 2GIS\n",
    "https://docs.2gis.com/ru/api/search/geocoder/overview#nav-lvl2--Прямое_геокодирование\n",
    "\n",
    "Доступ к сервису осуществлен по ключу, полученному в исследовательских целях"
   ]
  },
  {
   "cell_type": "code",
   "execution_count": null,
   "metadata": {},
   "outputs": [],
   "source": [
    "cityinf = []\n",
    "url1 = 'https://catalog.api.2gis.com/3.0/items/geocode?q='\n",
    "url2 = '&fields=items.point,items.adm_div&key='\n",
    "apikey = 'rubelb3692'\n",
    "for city in citieslist['City']:\n",
    "    try:\n",
    "        print(city)\n",
    "        response = requests.get(url1+city+url2+apikey)\n",
    "        cityjson = json.loads(response.text)\n",
    "        cityinf.append(cityjson)\n",
    "    except HTTPError as http_err:\n",
    "        print(city + f':HTTP error occurred: {http_err}')  \n",
    "    except Exception as err:\n",
    "        print(city + f':Other error occurred: {err}')  \n",
    "    else:\n",
    "        sleep(3)"
   ]
  },
  {
   "cell_type": "code",
   "execution_count": 4,
   "metadata": {},
   "outputs": [],
   "source": [
    "cityinf = []\n",
    "url = 'https://catalog.api.2gis.com/3.0/items/geocode?q=Химки&fields=items.point,items.adm_div&key=rubelb3692'\n",
    "response = requests.get(url)\n",
    "cityjson = json.loads(response.text)\n",
    "cityinf.append(cityjson)\n"
   ]
  },
  {
   "cell_type": "code",
   "execution_count": null,
   "metadata": {},
   "outputs": [],
   "source": [
    "cityclean = {}\n",
    "for city in cityinf:\n",
    "    cityclean[city['result']['items'][0]['name']] = {'lat': city['result']['items'][0]['point']['lat'], \n",
    "    'lon': city['result']['items'][0]['point']['lon'],\n",
    "    }\n"
   ]
  },
  {
   "cell_type": "code",
   "execution_count": null,
   "metadata": {},
   "outputs": [],
   "source": [
    "# name\n",
    "print(cityinf[2]['result']['items'][0]['name'])\n",
    "# latitude\n",
    "print(cityinf[2]['result']['items'][0]['point']['lat'])\n",
    "# longitude\n",
    "print(cityinf[2]['result']['items'][0]['point']['lon'])\n",
    "\n"
   ]
  },
  {
   "cell_type": "code",
   "execution_count": 183,
   "metadata": {},
   "outputs": [],
   "source": [
    "citieslist['lat'] = ''\n",
    "citieslist['lon'] = ''\n",
    "citieslist['address'] = ''"
   ]
  },
  {
   "cell_type": "code",
   "execution_count": null,
   "metadata": {},
   "outputs": [],
   "source": [
    "for ind in range(len(citieslist)):\n",
    "    citieslist['lat'].iloc[ind] = cityclean[citieslist['City'].iloc[ind]]['lat']\n",
    "    citieslist['lon'].iloc[ind] = cityclean[citieslist['City'].iloc[ind]]['lon']"
   ]
  }
 ],
 "metadata": {
  "kernelspec": {
   "display_name": "Python 3.10.5 64-bit",
   "language": "python",
   "name": "python3"
  },
  "language_info": {
   "codemirror_mode": {
    "name": "ipython",
    "version": 3
   },
   "file_extension": ".py",
   "mimetype": "text/x-python",
   "name": "python",
   "nbconvert_exporter": "python",
   "pygments_lexer": "ipython3",
   "version": "3.10.5"
  },
  "orig_nbformat": 4,
  "vscode": {
   "interpreter": {
    "hash": "26de051ba29f2982a8de78e945f0abaf191376122a1563185a90213a26c5da77"
   }
  }
 },
 "nbformat": 4,
 "nbformat_minor": 2
}
