{
 "cells": [
  {
   "cell_type": "code",
   "execution_count": 1,
   "metadata": {},
   "outputs": [],
   "source": [
    "from time import sleep\n",
    "\n",
    "from IPython.display import clear_output\n",
    "\n",
    "from selenium import webdriver\n",
    "from selenium.webdriver.common.by import By\n",
    "from selenium.webdriver.common.keys import Keys\n",
    "from selenium.webdriver.support.ui import WebDriverWait\n",
    "from selenium.webdriver.support import expected_conditions as EC\n",
    "\n",
    "import json\n",
    "\n",
    "import pandas as pd"
   ]
  },
  {
   "cell_type": "code",
   "execution_count": null,
   "metadata": {},
   "outputs": [],
   "source": [
    "options = webdriver.ChromeOptions()\n",
    "options.add_argument('headless')\n",
    "browser = webdriver.Chrome(chrome_options=options)"
   ]
  },
  {
   "cell_type": "code",
   "execution_count": 3,
   "metadata": {},
   "outputs": [],
   "source": [
    "cities = pd.read_csv('../Population/rosstat_clean.csv', encoding='cp1251')"
   ]
  },
  {
   "cell_type": "code",
   "execution_count": null,
   "metadata": {},
   "outputs": [],
   "source": [
    "cities_info = []\n",
    "for ind, city in cities.iterrows():\n",
    "    # Для некороых городов надо вручную менять часть для ссылки, так как иначе\n",
    "    # откроется неправильная страница в википедии\n",
    "    if(city['City'] == 'Владимир'): urlpart = 'Владимир_(город,_Россия)'\n",
    "    elif (city['City'] == 'Орел'): urlpart = 'Орёл_(город)'\n",
    "    elif (city['City'] == 'Курган'): urlpart = 'Курган_(город)'\n",
    "    else: urlpart = city['City']\n",
    "    print(city['City'])\n",
    "    city_info = {}\n",
    "    browser.get('https://ru.wikipedia.org/wiki/' + urlpart)\n",
    "    trlist = browser.find_elements(By.TAG_NAME,'tr')\n",
    "    country = ''\n",
    "    region = ''\n",
    "    for i in range(0, len(trlist)):\n",
    "        parts = trlist[i].text.split(' ')\n",
    "        match parts[0]:\n",
    "            case 'Страна': \n",
    "                country = (lambda p: p[2] if p[1] == '' else p[1])(parts) if (country == '') else country\n",
    "            case 'Субъект': \n",
    "                for part in parts: \n",
    "                    if (part != 'Субъект' and part != 'Федерации'):\n",
    "                        region += part + ' '\n",
    "            # Для Севастополя и Симферополя структура общей информации о городе отличается от других городов.\n",
    "            # Приходится обрабатывать отдельно\n",
    "            case 'Регион':\n",
    "                for part in parts: \n",
    "                    if (part != 'Регион'):\n",
    "                        region += part + ' '\n",
    "                region = region.split('[b]')[0] \n",
    "    region = region[:-1] if (region[-1] == ' ') else region\n",
    "    country = country[:-1] if (country[-1] == '/') else country\n",
    "    city_info = {'name': city['City'], 'country': country, 'region': region}\n",
    "    cities_info.append(city_info)\n",
    "    sleep(5)"
   ]
  },
  {
   "cell_type": "code",
   "execution_count": 5,
   "metadata": {},
   "outputs": [],
   "source": [
    "with open('address.json', 'w') as file:\n",
    "    json.dump(cities_info,file, indent = 3, ensure_ascii = False)"
   ]
  }
 ],
 "metadata": {
  "kernelspec": {
   "display_name": "Python 3.10.5 64-bit",
   "language": "python",
   "name": "python3"
  },
  "language_info": {
   "codemirror_mode": {
    "name": "ipython",
    "version": 3
   },
   "file_extension": ".py",
   "mimetype": "text/x-python",
   "name": "python",
   "nbconvert_exporter": "python",
   "pygments_lexer": "ipython3",
   "version": "3.10.5"
  },
  "orig_nbformat": 4,
  "vscode": {
   "interpreter": {
    "hash": "26de051ba29f2982a8de78e945f0abaf191376122a1563185a90213a26c5da77"
   }
  }
 },
 "nbformat": 4,
 "nbformat_minor": 2
}
