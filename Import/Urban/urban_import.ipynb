{
 "cells": [
  {
   "cell_type": "code",
   "execution_count": 66,
   "metadata": {},
   "outputs": [],
   "source": [
    "from selenium import webdriver\n",
    "from selenium.webdriver.common.by import By\n",
    "from selenium.webdriver.common.keys import Keys\n",
    "import pandas as pd\n",
    "import time\n",
    "from bs4 import BeautifulSoup\n",
    "from selenium.webdriver.support.ui import WebDriverWait\n",
    "from selenium.webdriver.support import expected_conditions as EC\n",
    "from selenium import webdriver \n",
    "from time import sleep\n",
    "\n",
    "import json\n"
   ]
  },
  {
   "cell_type": "code",
   "execution_count": null,
   "metadata": {},
   "outputs": [],
   "source": [
    "# https://индекс-городов.рф/#/groups/1 - страница с городами с население > 1 млн\n",
    "# https://индекс-городов.рф/#/groups/2 - страница с городами с население > 250 тыс\n",
    "# Просто прогнал ячейки 2 раза для разных ссылок"
   ]
  },
  {
   "cell_type": "code",
   "execution_count": null,
   "metadata": {},
   "outputs": [],
   "source": [
    "options = webdriver.ChromeOptions()\n",
    "options.add_argument('headless')\n",
    "browser = webdriver.Chrome(chrome_options=options)\n",
    "browser.get('https://индекс-городов.рф/#/groups/1')"
   ]
  },
  {
   "cell_type": "code",
   "execution_count": 54,
   "metadata": {},
   "outputs": [],
   "source": [
    "alist = browser.find_elements(By.TAG_NAME,'a')"
   ]
  },
  {
   "cell_type": "code",
   "execution_count": null,
   "metadata": {},
   "outputs": [],
   "source": [
    "# индексы в списке, соответствующие таблице с именами городов\n",
    "#  9 - 24 - для миллионников\n",
    "#  9 - 72 - для > 250 тыс"
   ]
  },
  {
   "cell_type": "code",
   "execution_count": 60,
   "metadata": {},
   "outputs": [],
   "source": [
    "citylist = {}\n",
    "for i in range(9,24):\n",
    "    citylist[alist[i].text.split('\\n')[0]] = {'city': alist[i].text.split('\\n')[0],'rating':alist[i].text.split('\\n')[1]}"
   ]
  },
  {
   "cell_type": "markdown",
   "metadata": {},
   "source": [
    "*Поля в словаре:*<br>\n",
    "**city** - Название города<br>\n",
    "**living** - Жилье и прилегающие пространства<br>\n",
    "**roads** - Улично-дорожная сеть<br>\n",
    "**trees** - Озелененные пространства<br>\n",
    "**business** - Общественно-деловая инфраструктура и прилегающие пространства<br>\n",
    "**social** - Социально-досуговая инфраструктура и прилегающие пространства<br>\n",
    "**commonplaces** - Общегородское пространство"
   ]
  },
  {
   "cell_type": "code",
   "execution_count": null,
   "metadata": {},
   "outputs": [],
   "source": [
    "for key in citylist:\n",
    "    print(key)\n",
    "    browser.get('https://индекс-городов.рф/#/groups/1')\n",
    "    sleep(5)\n",
    "    browser.find_element(By.PARTIAL_LINK_TEXT, key).click()\n",
    "    sleep(5)\n",
    "    alist = browser.find_elements(By.TAG_NAME,'section')\n",
    "    citylist[key]['living'] = alist[4].text.split('\\n')[0]\n",
    "    citylist[key]['roads'] = alist[6].text.split('\\n')[0]\n",
    "    citylist[key]['trees'] = alist[8].text.split('\\n')[0]\n",
    "    citylist[key]['business'] = alist[10].text.split('\\n')[0]\n",
    "    citylist[key]['social'] = alist[12].text.split('\\n')[0]\n",
    "    citylist[key]['commonplaces'] = alist[14].text.split('\\n')[0]\n",
    "    sleep(5)\n",
    "    \n"
   ]
  },
  {
   "cell_type": "code",
   "execution_count": null,
   "metadata": {},
   "outputs": [],
   "source": [
    "fulllist = [] # общий список с городами"
   ]
  },
  {
   "cell_type": "code",
   "execution_count": 62,
   "metadata": {},
   "outputs": [],
   "source": [
    "for key in citylist:\n",
    "    fulllist.append(citylist[key])"
   ]
  },
  {
   "cell_type": "code",
   "execution_count": 67,
   "metadata": {},
   "outputs": [],
   "source": [
    "with open('urban_rating.json', 'w') as file:\n",
    "    json.dump(fulllist,file, indent = 3, ensure_ascii = False)"
   ]
  }
 ],
 "metadata": {
  "kernelspec": {
   "display_name": "Python 3.10.5 64-bit",
   "language": "python",
   "name": "python3"
  },
  "language_info": {
   "codemirror_mode": {
    "name": "ipython",
    "version": 3
   },
   "file_extension": ".py",
   "mimetype": "text/x-python",
   "name": "python",
   "nbconvert_exporter": "python",
   "pygments_lexer": "ipython3",
   "version": "3.10.5"
  },
  "orig_nbformat": 4,
  "vscode": {
   "interpreter": {
    "hash": "26de051ba29f2982a8de78e945f0abaf191376122a1563185a90213a26c5da77"
   }
  }
 },
 "nbformat": 4,
 "nbformat_minor": 2
}
