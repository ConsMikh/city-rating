{
 "cells": [
  {
   "cell_type": "markdown",
   "metadata": {},
   "source": [
    "## Импорт данных с официального сайта Росстата\n",
    "\n",
    "Ссыдка: https://rosstat.gov.ru/compendium/document/13282\n",
    "\n",
    "Файл в формате xlsx: Chisl_nasel_RF_MO_01-01-2022.xlsx"
   ]
  },
  {
   "cell_type": "code",
   "execution_count": 124,
   "metadata": {},
   "outputs": [],
   "source": [
    "import pandas as pd"
   ]
  },
  {
   "cell_type": "code",
   "execution_count": 125,
   "metadata": {},
   "outputs": [],
   "source": [
    "# Загрузка файла со статистикой\n",
    "file = 'Chisl_nasel_RF_MO_01-01-2022.xlsx'\n",
    "xl = pd.ExcelFile(file)"
   ]
  },
  {
   "cell_type": "code",
   "execution_count": 126,
   "metadata": {},
   "outputs": [],
   "source": [
    "# Загрузка вкладки с городами более 1 млн, удаление лишних строк\n",
    "df1 = xl.parse('Таб_23')\n",
    "df1 = df1[6:]\n",
    "df1 = df1[:-2]\n",
    "df1 = df1.drop(columns=['Unnamed: 0', 'Unnamed: 2', 'Unnamed: 5'])"
   ]
  },
  {
   "cell_type": "code",
   "execution_count": 127,
   "metadata": {},
   "outputs": [],
   "source": [
    "# Загрузка вкладки с городами более 500 тыс и менее 1 млн, удаление лишних строк\n",
    "df2 = xl.parse('Таб_24')\n",
    "df2 = df2[5:]\n",
    "df2 = df2[:-2]\n",
    "df2 = df2.drop(columns=['Unnamed: 0', 'Unnamed: 2', 'Unnamed: 5'])"
   ]
  },
  {
   "cell_type": "code",
   "execution_count": 128,
   "metadata": {},
   "outputs": [],
   "source": [
    "# Загрузка вкладки с городами более 250 тыс и менее 500 тыс, удаление лишних строк\n",
    "df3 = xl.parse('Таб_25')\n",
    "df3 = df3[5:]\n",
    "df3 = df3[:-2]\n",
    "df3 = df3.drop(columns=['Unnamed: 0', 'Unnamed: 2', 'Unnamed: 5'])"
   ]
  },
  {
   "cell_type": "code",
   "execution_count": 129,
   "metadata": {},
   "outputs": [],
   "source": [
    "# Объединение всех групп городов в один массив, переименование колонок\n",
    "frames = [df1, df2, df3]\n",
    "result = pd.concat(frames)\n",
    "result.rename(columns={'Содержание' : 'City', 'Unnamed: 3' : 'Pop_2022', 'Unnamed: 4' : 'Pop_2021'}, inplace = True)"
   ]
  },
  {
   "cell_type": "code",
   "execution_count": 130,
   "metadata": {},
   "outputs": [],
   "source": [
    "# Удаление буквы г перед названием городов\n",
    "for index, data in result.iterrows():\n",
    "  data['City'] = data['City'][2:]"
   ]
  },
  {
   "cell_type": "code",
   "execution_count": 131,
   "metadata": {},
   "outputs": [],
   "source": [
    "# Переиндексация строк, удаление старого индекса\n",
    "result = result.sort_values(by=['Pop_2022'], ascending = False).reset_index()\n",
    "result = result.drop(columns=['index'])"
   ]
  },
  {
   "cell_type": "code",
   "execution_count": 132,
   "metadata": {},
   "outputs": [],
   "source": [
    "# Запись отчищенных данных\n",
    "result.to_csv('rosstat_clean.csv', encoding ='cp1251')"
   ]
  },
  {
   "cell_type": "code",
   "execution_count": null,
   "metadata": {},
   "outputs": [],
   "source": []
  }
 ],
 "metadata": {
  "kernelspec": {
   "display_name": "Python 3.10.5 64-bit",
   "language": "python",
   "name": "python3"
  },
  "language_info": {
   "codemirror_mode": {
    "name": "ipython",
    "version": 3
   },
   "file_extension": ".py",
   "mimetype": "text/x-python",
   "name": "python",
   "nbconvert_exporter": "python",
   "pygments_lexer": "ipython3",
   "version": "3.10.5"
  },
  "orig_nbformat": 4,
  "vscode": {
   "interpreter": {
    "hash": "26de051ba29f2982a8de78e945f0abaf191376122a1563185a90213a26c5da77"
   }
  }
 },
 "nbformat": 4,
 "nbformat_minor": 2
}
