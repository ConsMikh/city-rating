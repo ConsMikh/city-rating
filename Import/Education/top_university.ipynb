{
 "cells": [
  {
   "cell_type": "code",
   "execution_count": 4,
   "metadata": {},
   "outputs": [],
   "source": [
    "from time import sleep\n",
    "\n",
    "from IPython.display import clear_output\n",
    "\n",
    "from selenium import webdriver\n",
    "from selenium.webdriver.common.by import By\n",
    "from selenium.webdriver.common.keys import Keys\n",
    "from selenium.webdriver.support.ui import WebDriverWait\n",
    "from selenium.webdriver.support import expected_conditions as EC\n",
    "\n",
    "import json"
   ]
  },
  {
   "cell_type": "markdown",
   "metadata": {},
   "source": [
    "## Рейтинг лучших вузов России RAEX-100, 2022 год\n",
    "Источник: https://raex-rr.com/pro/education/russian_universities/top-100_universities/2022/\n",
    "\n",
    "Поля:\n",
    "- Место\n",
    "- Название\n",
    "- Место, 2021 год\n",
    "- Рейтинговый функционал (балл)\n",
    "- Условия для получения качественного образования, ранг\n",
    "- Уровень востребованности выпускников работодателями, ранг\n",
    "- Уровень научно-исследовательской деятельности, ранг"
   ]
  },
  {
   "cell_type": "code",
   "execution_count": 2,
   "metadata": {},
   "outputs": [],
   "source": [
    "url = 'https://raex-rr.com/pro/education/russian_universities/top-100_universities/2022/'"
   ]
  },
  {
   "cell_type": "code",
   "execution_count": 5,
   "metadata": {},
   "outputs": [
    {
     "name": "stderr",
     "output_type": "stream",
     "text": [
      "C:\\Users\\kamik\\AppData\\Local\\Temp\\ipykernel_1564\\3051664040.py:3: DeprecationWarning: use options instead of chrome_options\n",
      "  browser = webdriver.Chrome(chrome_options=options)\n"
     ]
    }
   ],
   "source": [
    "options = webdriver.ChromeOptions()\n",
    "options.add_argument('headless')\n",
    "browser = webdriver.Chrome(chrome_options=options)"
   ]
  },
  {
   "cell_type": "code",
   "execution_count": 6,
   "metadata": {},
   "outputs": [],
   "source": [
    "browser.get(url)"
   ]
  },
  {
   "cell_type": "code",
   "execution_count": 16,
   "metadata": {},
   "outputs": [],
   "source": [
    "def concatUnName(parts):\n",
    "    fullname = ''\n",
    "    for part in parts: fullname += part + ' '\n",
    "    return fullname[:-1] "
   ]
  },
  {
   "cell_type": "code",
   "execution_count": 9,
   "metadata": {},
   "outputs": [],
   "source": [
    "trlist = browser.find_elements(By.TAG_NAME, 'tr')"
   ]
  },
  {
   "cell_type": "markdown",
   "metadata": {},
   "source": [
    "### Data stucture for Univercity\n",
    "{key = midname (имя из таблицы на сайте):\n",
    "\n",
    "               {inn: ИНН вуза\n",
    "\n",
    "                region: регион расположения\n",
    "\n",
    "                link: ссылка на сайт\n",
    "\n",
    "                rank_2022: рейтинг в 2022 году\n",
    "\n",
    "                rank_2021: рейтинг в 2021 году\n",
    "\n",
    "                rank_full: pейтинговый функционал (балл)\n",
    "\n",
    "                rank_edu: условия для получения качественного образования\n",
    "\n",
    "                rank_job: уровень востребованности выпускников работодателями\n",
    "\n",
    "                rank_sci: уровень научно-исследовательской деятельности\n",
    "                \n",
    "               }\n",
    "}"
   ]
  },
  {
   "cell_type": "code",
   "execution_count": 32,
   "metadata": {},
   "outputs": [],
   "source": [
    "all_un_info = {}\n",
    "for i in range(1,len(trlist)):\n",
    "    un_info = {}\n",
    "    parts = trlist[i].text.split(' ')\n",
    "    all_un_info[concatUnName(parts[1:-5])] = {'rank_2022':parts[0], 'rank_2021': parts[-5], 'rank_full': parts[-4], 'rank_edu': parts[-3], 'rank_job': parts[-2], 'rank_sci': parts[-1]}\n",
    "    "
   ]
  },
  {
   "cell_type": "code",
   "execution_count": 33,
   "metadata": {},
   "outputs": [
    {
     "data": {
      "text/plain": [
       "{'rank_2022': '26',\n",
       " 'rank_2021': '26',\n",
       " 'rank_full': '3.3341',\n",
       " 'rank_edu': '31',\n",
       " 'rank_job': '13',\n",
       " 'rank_sci': '41'}"
      ]
     },
     "execution_count": 33,
     "metadata": {},
     "output_type": "execute_result"
    }
   ],
   "source": [
    "all_un_info[\"Российский государственный университет нефти и газа (национальный исследовательский университет) имени И.М. Губкина\"]"
   ]
  },
  {
   "cell_type": "markdown",
   "metadata": {},
   "source": [
    "#### Extract univercity profile links"
   ]
  },
  {
   "cell_type": "code",
   "execution_count": 50,
   "metadata": {},
   "outputs": [],
   "source": [
    "trlist = browser.find_elements(By.TAG_NAME, 'a')"
   ]
  },
  {
   "cell_type": "code",
   "execution_count": 68,
   "metadata": {},
   "outputs": [],
   "source": [
    "prof_links = {}\n",
    "for i in range(20,len(trlist)):\n",
    "    prof_links[trlist[i].text] = trlist[i].get_attribute('href')"
   ]
  },
  {
   "cell_type": "markdown",
   "metadata": {},
   "source": [
    "#### Extract information from profile"
   ]
  },
  {
   "cell_type": "code",
   "execution_count": null,
   "metadata": {},
   "outputs": [],
   "source": [
    "for univer in all_un_info:\n",
    "    print(univer)\n",
    "    browser.get(prof_links[univer])\n",
    "    trlist = browser.find_elements(By.CLASS_NAME,'database_company_main_info')\n",
    "    inn = ''\n",
    "    region = ''\n",
    "    link = ''\n",
    "    for i in range(0,len(trlist)):\n",
    "        parts = trlist[i].text.split('\\n')\n",
    "        match parts[0]:\n",
    "            case 'ИНН': inn = parts[1]\n",
    "            case 'Регион': region = parts[1]\n",
    "            case 'Сайт': link = parts[1]\n",
    "    all_un_info[univer]['inn'] = inn\n",
    "    # lambda-выражение проверяет, есть ли в начале названия региона \"г. \". \n",
    "    # Если есть, то возвращает название региона без этой подстроки.\n",
    "    # Само выражение срабатывает, если длина строки с регионом > 0.\n",
    "    # Иными словами, если регион есть в профайле универиситета \n",
    "    all_un_info[univer]['region'] = ((lambda r: r[3:] if (r[0]+r[1]+r[2] == 'г. ') else r)(region)) if len(region)>0 else ''\n",
    "    all_un_info[univer]['link'] = link\n",
    "    sleep(10)\n",
    "    "
   ]
  },
  {
   "cell_type": "code",
   "execution_count": 249,
   "metadata": {},
   "outputs": [
    {
     "name": "stdout",
     "output_type": "stream",
     "text": [
      "Тихоокеанский государственный университет\n"
     ]
    }
   ],
   "source": [
    "for univer in all_un_info:\n",
    "    if (all_un_info[univer].get('region','none') == 'Хабаровск'): \n",
    "        print(univer)\n"
   ]
  },
  {
   "cell_type": "code",
   "execution_count": 251,
   "metadata": {},
   "outputs": [],
   "source": [
    "all_un_info['Тихоокеанский государственный университет']['region'] = 'Хабаровский край'"
   ]
  },
  {
   "cell_type": "markdown",
   "metadata": {},
   "source": [
    "#### Преобразование словаря в список для сохранения в файл"
   ]
  },
  {
   "cell_type": "code",
   "execution_count": 254,
   "metadata": {},
   "outputs": [],
   "source": [
    "un_list = []\n",
    "for univer in all_un_info:\n",
    "    juniv = {}\n",
    "    juniv['name'] = univer\n",
    "    juniv['inn'] = all_un_info[univer]['inn']\n",
    "    juniv['region'] = all_un_info[univer]['region']\n",
    "    juniv['link'] = all_un_info[univer]['link']\n",
    "    juniv['rank_2022'] = all_un_info[univer]['rank_2022']\n",
    "    juniv['rank_2021'] = all_un_info[univer]['rank_2021']\n",
    "    juniv['rank_full'] = all_un_info[univer]['rank_full']\n",
    "    juniv['rank_edu'] = all_un_info[univer]['rank_edu']\n",
    "    juniv['rank_job'] = all_un_info[univer]['rank_job']\n",
    "    juniv['rank_sci'] = all_un_info[univer]['rank_sci']\n",
    "    un_list.append(juniv)"
   ]
  },
  {
   "cell_type": "code",
   "execution_count": 255,
   "metadata": {},
   "outputs": [],
   "source": [
    "\n",
    "import json\n",
    "\n",
    "jf = json.dumps(un_list, indent = 3, ensure_ascii=False)"
   ]
  },
  {
   "cell_type": "code",
   "execution_count": 256,
   "metadata": {},
   "outputs": [],
   "source": [
    "with open('univercity_rating.json', 'w') as file:\n",
    "    json.dump(un_list,file, indent = 3, ensure_ascii = False)"
   ]
  },
  {
   "cell_type": "code",
   "execution_count": null,
   "metadata": {},
   "outputs": [],
   "source": []
  }
 ],
 "metadata": {
  "kernelspec": {
   "display_name": "Python 3.10.5 64-bit",
   "language": "python",
   "name": "python3"
  },
  "language_info": {
   "codemirror_mode": {
    "name": "ipython",
    "version": 3
   },
   "file_extension": ".py",
   "mimetype": "text/x-python",
   "name": "python",
   "nbconvert_exporter": "python",
   "pygments_lexer": "ipython3",
   "version": "3.10.5"
  },
  "orig_nbformat": 4,
  "vscode": {
   "interpreter": {
    "hash": "26de051ba29f2982a8de78e945f0abaf191376122a1563185a90213a26c5da77"
   }
  }
 },
 "nbformat": 4,
 "nbformat_minor": 2
}
